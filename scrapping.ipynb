{
 "metadata": {
  "language_info": {
   "codemirror_mode": {
    "name": "ipython",
    "version": 3
   },
   "file_extension": ".py",
   "mimetype": "text/x-python",
   "name": "python",
   "nbconvert_exporter": "python",
   "pygments_lexer": "ipython3",
   "version": "3.8.5"
  },
  "orig_nbformat": 2,
  "kernelspec": {
   "name": "python385jvsc74a57bd08c03d0fe320ba32e87ec146cf627d054e13fa481ad050a28b68cf8f09939554b",
   "display_name": "Python 3.8.5 64-bit (conda)"
  }
 },
 "nbformat": 4,
 "nbformat_minor": 2,
 "cells": [
  {
   "cell_type": "code",
   "execution_count": 1,
   "metadata": {},
   "outputs": [],
   "source": [
    "from bs4 import BeautifulSoup\n",
    "import requests"
   ]
  },
  {
   "source": [
    "# Task 1 Get the link of each Vikings Season"
   ],
   "cell_type": "markdown",
   "metadata": {}
  },
  {
   "cell_type": "code",
   "execution_count": 10,
   "metadata": {
    "tags": []
   },
   "outputs": [
    {
     "output_type": "execute_result",
     "data": {
      "text/plain": [
       "['https://en.wikipedia.org//wiki/Vikings_(season_1)',\n",
       " 'https://en.wikipedia.org//wiki/Vikings_(season_2)',\n",
       " 'https://en.wikipedia.org//wiki/Vikings_(season_3)',\n",
       " 'https://en.wikipedia.org//wiki/Vikings_(season_4)',\n",
       " 'https://en.wikipedia.org//wiki/Vikings_(season_5)',\n",
       " 'https://en.wikipedia.org//wiki/Vikings_(season_6)']"
      ]
     },
     "metadata": {},
     "execution_count": 10
    }
   ],
   "source": [
    "base_url = 'https://en.wikipedia.org/'\n",
    "main_page_url = 'wiki/Vikings_(2013_TV_series)#Season_1'\n",
    "\n",
    "def get_links(url):\n",
    "    r = requests.get(url)\n",
    "    webpage = BeautifulSoup(r.content)\n",
    "    url_list = []\n",
    "    links = webpage.find_all('div', class_='hatnote')\n",
    "    for link in links:\n",
    "        url = link.find('a')\n",
    "        url_list.append(base_url + url['href'])\n",
    "    return url_list[2:-3]\n",
    "\n",
    "links = get_links(base_url + main_page_url)\n",
    "links"
   ]
  },
  {
   "cell_type": "code",
   "execution_count": 29,
   "metadata": {},
   "outputs": [
    {
     "output_type": "execute_result",
     "data": {
      "text/plain": [
       "{'title': 'Vikings',\n",
       " 'season': 'Season 1',\n",
       " 'Starring': ['Travis Fimmel',\n",
       "  'Katheryn Winnick',\n",
       "  'Clive Standen',\n",
       "  'Jessalyn Gilsig',\n",
       "  'Gustaf Skarsgård',\n",
       "  'Gabriel Byrne',\n",
       "  'George Blagden',\n",
       "  'Donal Logue',\n",
       "  'Alyssa Sutherland'],\n",
       " 'Country of origin': 'Canada / Ireland',\n",
       " 'No. of episodes': '9',\n",
       " 'Original network': 'History',\n",
       " 'Original release': 'March 3 (2013-03-03) –April 28, 2013 (2013-04-28)'}"
      ]
     },
     "metadata": {},
     "execution_count": 29
    }
   ],
   "source": [
    "def get_content(row):\n",
    "    data = row.find('td')\n",
    "    if data.find('li') is not None:\n",
    "        return [li.get_text() for li in data.find_all('li')]\n",
    "    else:\n",
    "        return data.get_text().replace('\\xa0', ' ')\n",
    "\n",
    "def get_info_box(url):\n",
    "    r = requests.get(url)\n",
    "    page = BeautifulSoup(r.content)\n",
    "    info_box = page.find('table', class_='infobox vevent')\n",
    "    dicts = {}\n",
    "    for index, row in enumerate(info_box.select('tr')[:-2]):\n",
    "        if index == 0:\n",
    "            dicts['title'] = row.get_text()\n",
    "        elif index == 1:\n",
    "            dicts['season'] = row.get_text()\n",
    "        elif index == 2:\n",
    "            continue\n",
    "        elif row.get_text() == 'Release':\n",
    "            continue\n",
    "        else:\n",
    "            key = row.find('th', class_='infobox-label')\n",
    "            if key is not None:\n",
    "                dicts[key.get_text()] = get_content(row)\n",
    "        \n",
    "    return dicts\n",
    "        \n",
    "        \n",
    "get_info_box(links[0])"
   ]
  },
  {
   "cell_type": "code",
   "execution_count": 32,
   "metadata": {},
   "outputs": [
    {
     "output_type": "execute_result",
     "data": {
      "text/plain": [
       "[{'title': 'Vikings',\n",
       "  'season': 'Season 1',\n",
       "  'Starring': ['Travis Fimmel',\n",
       "   'Katheryn Winnick',\n",
       "   'Clive Standen',\n",
       "   'Jessalyn Gilsig',\n",
       "   'Gustaf Skarsgård',\n",
       "   'Gabriel Byrne',\n",
       "   'George Blagden',\n",
       "   'Donal Logue',\n",
       "   'Alyssa Sutherland'],\n",
       "  'Country of origin': 'Canada / Ireland',\n",
       "  'No. of episodes': '9',\n",
       "  'Original network': 'History',\n",
       "  'Original release': 'March 3 (2013-03-03) –April 28, 2013 (2013-04-28)'},\n",
       " {'title': 'Vikings',\n",
       "  'season': 'Season 2',\n",
       "  'Starring': ['Travis Fimmel',\n",
       "   'Katheryn Winnick',\n",
       "   'Clive Standen',\n",
       "   'Jessalyn Gilsig',\n",
       "   'Gustaf Skarsgård',\n",
       "   'George Blagden',\n",
       "   'Alyssa Sutherland',\n",
       "   'Donal Logue',\n",
       "   'Linus Roache',\n",
       "   'Alexander Ludwig'],\n",
       "  'Country of origin': 'Canada / Ireland',\n",
       "  'No. of episodes': '10',\n",
       "  'Original network': 'History',\n",
       "  'Original release': 'February 27 (2014-02-27) –May 1, 2014 (2014-05-01)'},\n",
       " {'title': 'Vikings',\n",
       "  'season': 'Season 3',\n",
       "  'Starring': ['Travis Fimmel',\n",
       "   'Katheryn Winnick',\n",
       "   'Clive Standen',\n",
       "   'Jessalyn Gilsig',\n",
       "   'Gustaf Skarsgård',\n",
       "   'George Blagden',\n",
       "   'Alexander Ludwig',\n",
       "   'Alyssa Sutherland',\n",
       "   'Ben Robson',\n",
       "   'Linus Roache',\n",
       "   'Kevin Durand',\n",
       "   'Lothaire Bluteau'],\n",
       "  'Country of origin': 'Canada / Ireland',\n",
       "  'No. of episodes': '10',\n",
       "  'Original network': 'History',\n",
       "  'Original release': 'February 19 (2015-02-19) –April 23, 2015 (2015-04-23)'},\n",
       " {'title': 'Vikings',\n",
       "  'season': 'Season 4',\n",
       "  'Starring': ['Travis Fimmel',\n",
       "   'Katheryn Winnick',\n",
       "   'Clive Standen',\n",
       "   'Gustaf Skarsgård',\n",
       "   'Alexander Ludwig',\n",
       "   'Alyssa Sutherland',\n",
       "   'Ben Robson',\n",
       "   'Lothaire Bluteau',\n",
       "   'John Kavanagh',\n",
       "   'Linus Roache',\n",
       "   'Peter Franzén',\n",
       "   'Jasper Pääkkönen',\n",
       "   'Kevin Durand',\n",
       "   'Alex Høgh',\n",
       "   'Marco Ilsø',\n",
       "   'David Lindström',\n",
       "   'Jordan Patrick Smith',\n",
       "   'Moe Dunford',\n",
       "   'Jonathan Rhys Meyers'],\n",
       "  'Country of origin': 'Canada / Ireland',\n",
       "  'No. of episodes': '20',\n",
       "  'Original network': 'History',\n",
       "  'Original release': 'Part 1:February 18 (2016-02-18) –April 21, 2016 (2016-04-21)Part 2:November 30, 2016 (2016-11-30) – February 1, 2017 (2017-02-01)'},\n",
       " {'title': 'Vikings',\n",
       "  'season': 'Season 5',\n",
       "  'Starring': ['Katheryn Winnick',\n",
       "   'Gustaf Skarsgård',\n",
       "   'Alexander Ludwig',\n",
       "   'Peter Franzén',\n",
       "   'Jasper Pääkkönen',\n",
       "   'Moe Dunford',\n",
       "   'Alex Høgh',\n",
       "   'Marco Ilsø',\n",
       "   'Jordan Patrick Smith',\n",
       "   'Jonathan Rhys Meyers',\n",
       "   'John Kavanagh'],\n",
       "  'Country of origin': 'Canada / Ireland',\n",
       "  'No. of episodes': '20',\n",
       "  'Original network': 'History',\n",
       "  'Original release': 'Part 1:November 29, 2017 (2017-11-29) –January 24, 2018 (2018-01-24)Part 2:November 28, 2018 (2018-11-28) – January 30, 2019 (2019-01-30)'},\n",
       " {'title': 'Vikings',\n",
       "  'season': 'Season 6',\n",
       "  'Starring': ['Katheryn Winnick',\n",
       "   'Alexander Ludwig',\n",
       "   'Alex Høgh Andersen',\n",
       "   'Marco Ilsø',\n",
       "   'Jordan Patrick Smith',\n",
       "   'Danila Kozlovsky',\n",
       "   'John Kavanagh',\n",
       "   'Peter Franzén',\n",
       "   'Eric Johnson',\n",
       "   'Georgia Hirst',\n",
       "   'Ragga Ragnars',\n",
       "   'Ray Stevenson',\n",
       "   'Gustaf Skarsgård',\n",
       "   'Jasper Pääkkönen'],\n",
       "  'Country of origin': 'Canada / Ireland',\n",
       "  'No. of episodes': '20',\n",
       "  'Original network': ['Part 1: History', 'Part 2: Prime Video'],\n",
       "  'Original release': 'Part 1:December 4, 2019 (2019-12-04) –February 5, 2020 (2020-02-05)Part 2December 30, 2020 (2020-12-30)'}]"
      ]
     },
     "metadata": {},
     "execution_count": 32
    }
   ],
   "source": [
    "list_info = [get_info_box(link) for link in links]\n",
    "list_info"
   ]
  },
  {
   "cell_type": "code",
   "execution_count": null,
   "metadata": {},
   "outputs": [],
   "source": []
  }
 ]
}